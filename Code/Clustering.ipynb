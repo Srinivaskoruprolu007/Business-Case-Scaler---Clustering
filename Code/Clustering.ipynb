{
 "cells": [
  {
   "cell_type": "code",
   "execution_count": 2,
   "metadata": {},
   "outputs": [],
   "source": [
    "import numpy as np  \n",
    "import pandas as pd \n",
    "from sklearn.model_selection import train_test_split \n",
    "from sklearn.preprocessing import StandardScaler, LabelEncoder \n",
    "from sklearn.metrics import accuracy_score, confusion_matrix, classification_report \n",
    "from sklearn.linear_model import LogisticRegression \n",
    "from sklearn.tree import DecisionTreeClassifier \n",
    "from sklearn.ensemble import RandomForestClassifier, GradientBoostingClassifier \n",
    "from sklearn.svm import SVC \n",
    "from sklearn.neighbors import KNeighborsClassifier \n",
    "from sklearn.cluster import KMeans \n",
    "import matplotlib.pyplot as plt \n",
    "import seaborn as sns \n",
    "import warnings \n",
    "warnings.filterwarnings('ignore') # Visualization Settings \n",
    "sns.set(style='whitegrid')"
   ]
  },
  {
   "cell_type": "markdown",
   "metadata": {},
   "source": [
    "## Problem Statement\n",
    "The task is to analyze and cluster learners based on features such as job profile, company, and salary. The goal is to explore the relationships between salary (CTC), years of experience, job position, and the company they work for, and to segment learners into meaningful clusters. These clusters will help identify high performers, top companies, and specific positions where employees are earning above or below their peers, ultimately providing actionable business insights for talent management."
   ]
  },
  {
   "cell_type": "code",
   "execution_count": 3,
   "metadata": {},
   "outputs": [
    {
     "data": {
      "text/html": [
       "<div>\n",
       "<style scoped>\n",
       "    .dataframe tbody tr th:only-of-type {\n",
       "        vertical-align: middle;\n",
       "    }\n",
       "\n",
       "    .dataframe tbody tr th {\n",
       "        vertical-align: top;\n",
       "    }\n",
       "\n",
       "    .dataframe thead th {\n",
       "        text-align: right;\n",
       "    }\n",
       "</style>\n",
       "<table border=\"1\" class=\"dataframe\">\n",
       "  <thead>\n",
       "    <tr style=\"text-align: right;\">\n",
       "      <th></th>\n",
       "      <th>Unnamed: 0</th>\n",
       "      <th>company_hash</th>\n",
       "      <th>email_hash</th>\n",
       "      <th>orgyear</th>\n",
       "      <th>ctc</th>\n",
       "      <th>job_position</th>\n",
       "      <th>ctc_updated_year</th>\n",
       "    </tr>\n",
       "  </thead>\n",
       "  <tbody>\n",
       "    <tr>\n",
       "      <th>0</th>\n",
       "      <td>0</td>\n",
       "      <td>atrgxnnt xzaxv</td>\n",
       "      <td>6de0a4417d18ab14334c3f43397fc13b30c35149d70c05...</td>\n",
       "      <td>2016.0</td>\n",
       "      <td>1100000</td>\n",
       "      <td>Other</td>\n",
       "      <td>2020.0</td>\n",
       "    </tr>\n",
       "    <tr>\n",
       "      <th>1</th>\n",
       "      <td>1</td>\n",
       "      <td>qtrxvzwt xzegwgbb rxbxnta</td>\n",
       "      <td>b0aaf1ac138b53cb6e039ba2c3d6604a250d02d5145c10...</td>\n",
       "      <td>2018.0</td>\n",
       "      <td>449999</td>\n",
       "      <td>FullStack Engineer</td>\n",
       "      <td>2019.0</td>\n",
       "    </tr>\n",
       "    <tr>\n",
       "      <th>2</th>\n",
       "      <td>2</td>\n",
       "      <td>ojzwnvwnxw vx</td>\n",
       "      <td>4860c670bcd48fb96c02a4b0ae3608ae6fdd98176112e9...</td>\n",
       "      <td>2015.0</td>\n",
       "      <td>2000000</td>\n",
       "      <td>Backend Engineer</td>\n",
       "      <td>2020.0</td>\n",
       "    </tr>\n",
       "    <tr>\n",
       "      <th>3</th>\n",
       "      <td>3</td>\n",
       "      <td>ngpgutaxv</td>\n",
       "      <td>effdede7a2e7c2af664c8a31d9346385016128d66bbc58...</td>\n",
       "      <td>2017.0</td>\n",
       "      <td>700000</td>\n",
       "      <td>Backend Engineer</td>\n",
       "      <td>2019.0</td>\n",
       "    </tr>\n",
       "    <tr>\n",
       "      <th>4</th>\n",
       "      <td>4</td>\n",
       "      <td>qxen sqghu</td>\n",
       "      <td>6ff54e709262f55cb999a1c1db8436cb2055d8f79ab520...</td>\n",
       "      <td>2017.0</td>\n",
       "      <td>1400000</td>\n",
       "      <td>FullStack Engineer</td>\n",
       "      <td>2019.0</td>\n",
       "    </tr>\n",
       "  </tbody>\n",
       "</table>\n",
       "</div>"
      ],
      "text/plain": [
       "   Unnamed: 0               company_hash  \\\n",
       "0           0             atrgxnnt xzaxv   \n",
       "1           1  qtrxvzwt xzegwgbb rxbxnta   \n",
       "2           2              ojzwnvwnxw vx   \n",
       "3           3                  ngpgutaxv   \n",
       "4           4                 qxen sqghu   \n",
       "\n",
       "                                          email_hash  orgyear      ctc  \\\n",
       "0  6de0a4417d18ab14334c3f43397fc13b30c35149d70c05...   2016.0  1100000   \n",
       "1  b0aaf1ac138b53cb6e039ba2c3d6604a250d02d5145c10...   2018.0   449999   \n",
       "2  4860c670bcd48fb96c02a4b0ae3608ae6fdd98176112e9...   2015.0  2000000   \n",
       "3  effdede7a2e7c2af664c8a31d9346385016128d66bbc58...   2017.0   700000   \n",
       "4  6ff54e709262f55cb999a1c1db8436cb2055d8f79ab520...   2017.0  1400000   \n",
       "\n",
       "         job_position  ctc_updated_year  \n",
       "0               Other            2020.0  \n",
       "1  FullStack Engineer            2019.0  \n",
       "2    Backend Engineer            2020.0  \n",
       "3    Backend Engineer            2019.0  \n",
       "4  FullStack Engineer            2019.0  "
      ]
     },
     "execution_count": 3,
     "metadata": {},
     "output_type": "execute_result"
    }
   ],
   "source": [
    "# import the data set\n",
    "df = pd.read_csv(\"../DataSet/Scaler_clustering.csv\")\n",
    "df.head()"
   ]
  },
  {
   "cell_type": "code",
   "execution_count": 4,
   "metadata": {},
   "outputs": [
    {
     "data": {
      "text/plain": [
       "(205843, 7)"
      ]
     },
     "execution_count": 4,
     "metadata": {},
     "output_type": "execute_result"
    }
   ],
   "source": [
    "df.shape"
   ]
  },
  {
   "cell_type": "code",
   "execution_count": 5,
   "metadata": {},
   "outputs": [
    {
     "data": {
      "text/plain": [
       "Unnamed: 0            int64\n",
       "company_hash         object\n",
       "email_hash           object\n",
       "orgyear             float64\n",
       "ctc                   int64\n",
       "job_position         object\n",
       "ctc_updated_year    float64\n",
       "dtype: object"
      ]
     },
     "execution_count": 5,
     "metadata": {},
     "output_type": "execute_result"
    }
   ],
   "source": [
    "df.dtypes"
   ]
  },
  {
   "cell_type": "code",
   "execution_count": 6,
   "metadata": {},
   "outputs": [
    {
     "data": {
      "text/plain": [
       "Unnamed: 0              0\n",
       "company_hash           44\n",
       "email_hash              0\n",
       "orgyear                86\n",
       "ctc                     0\n",
       "job_position        52564\n",
       "ctc_updated_year        0\n",
       "dtype: int64"
      ]
     },
     "execution_count": 6,
     "metadata": {},
     "output_type": "execute_result"
    }
   ],
   "source": [
    "df.isna().sum()"
   ]
  },
  {
   "cell_type": "markdown",
   "metadata": {},
   "source": [
    "#"
   ]
  }
 ],
 "metadata": {
  "kernelspec": {
   "display_name": "Python 3",
   "language": "python",
   "name": "python3"
  },
  "language_info": {
   "codemirror_mode": {
    "name": "ipython",
    "version": 3
   },
   "file_extension": ".py",
   "mimetype": "text/x-python",
   "name": "python",
   "nbconvert_exporter": "python",
   "pygments_lexer": "ipython3",
   "version": "3.13.0"
  }
 },
 "nbformat": 4,
 "nbformat_minor": 2
}
